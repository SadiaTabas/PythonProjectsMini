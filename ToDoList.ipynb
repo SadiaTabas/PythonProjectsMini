{
 "cells": [
  {
   "cell_type": "code",
   "execution_count": 33,
   "id": "edb061c1-aa00-4472-8283-56249e33610d",
   "metadata": {},
   "outputs": [
    {
     "name": "stdin",
     "output_type": "stream",
     "text": [
      "How many Task want to add 2\n",
      "Enter the task 1.Study\n"
     ]
    },
    {
     "name": "stdout",
     "output_type": "stream",
     "text": [
      "['1.Study']\n"
     ]
    },
    {
     "name": "stdin",
     "output_type": "stream",
     "text": [
      "Enter the task 2.sleep\n"
     ]
    },
    {
     "name": "stdout",
     "output_type": "stream",
     "text": [
      "['1.Study', '2.sleep']\n"
     ]
    },
    {
     "name": "stdin",
     "output_type": "stream",
     "text": [
      "Enter your choice: 1. Delete a task  2.Exit the program!  2\n"
     ]
    },
    {
     "name": "stdout",
     "output_type": "stream",
     "text": [
      "Exit the program!\n"
     ]
    }
   ],
   "source": [
    "n = []\n",
    "\n",
    "a = int(input(\"How many Task want to add\"))\n",
    "for i in range(a):\n",
    "    num = input(\"Enter the task\")\n",
    "    n.append(num)\n",
    "    print(n)\n",
    "x=int(input(\"Enter your choice: 1. Delete a task  2.Exit the program! \"))\n",
    "if x==1:\n",
    "    print(\"Deleted a task!:\")\n",
    "    b = input(\"Enter the number of task want to delete:\")\n",
    "    if b in n:\n",
    "        n.remove(b)\n",
    "        print(n)\n",
    "    else:\n",
    "        print(\"Task not found!\")\n",
    "elif x == 2:\n",
    "    print(\"Exit the program!\")\n",
    "       \n",
    "    \n",
    "\n",
    "\n"
   ]
  },
  {
   "cell_type": "code",
   "execution_count": null,
   "id": "a472acd6-70b5-4e58-9b58-3699bb54e3f4",
   "metadata": {},
   "outputs": [],
   "source": []
  },
  {
   "cell_type": "code",
   "execution_count": null,
   "id": "6f2e41a5-f7d3-4d1b-a81f-675b5374aea5",
   "metadata": {},
   "outputs": [],
   "source": []
  }
 ],
 "metadata": {
  "kernelspec": {
   "display_name": "Python [conda env:base] *",
   "language": "python",
   "name": "conda-base-py"
  },
  "language_info": {
   "codemirror_mode": {
    "name": "ipython",
    "version": 3
   },
   "file_extension": ".py",
   "mimetype": "text/x-python",
   "name": "python",
   "nbconvert_exporter": "python",
   "pygments_lexer": "ipython3",
   "version": "3.13.5"
  }
 },
 "nbformat": 4,
 "nbformat_minor": 5
}
