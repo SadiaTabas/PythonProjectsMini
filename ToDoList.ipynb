{
 "cells": [
  {
   "cell_type": "code",
   "execution_count": null,
   "id": "11aac812-63f2-41ca-b785-2ccc2cd0e19e",
   "metadata": {},
   "outputs": [],
   "source": [
    "n = []\n",
    "\n",
    "a = int(input(\"How many Task want to add?\"))\n",
    "for i in range(a):\n",
    "    num = input(\"Enter the task:\")\n",
    "    n.append(num)\n",
    "    print(n)\n",
    "\n",
    "x = int(input(\"Enter your choice: 1. Delete a task  2.Exit the program! \"))\n",
    "\n",
    "if x == 1:\n",
    "    print(\"Deleted a task\")\n",
    "    b = input(\"Enter the number of task want to delete:\")\n",
    "    if b in n:\n",
    "        n.remove(b)\n",
    "        print(n)\n",
    "    else:\n",
    "        print(\"Task not found!\")\n",
    "\n",
    "elif x == 2:\n",
    "    print(\"Exit the program!\")"
   ]
  },
  {
   "cell_type": "code",
   "execution_count": null,
   "id": "b65213a5-9b81-4308-9c33-b127ad454fb9",
   "metadata": {},
   "outputs": [],
   "source": []
  }
 ],
 "metadata": {
  "kernelspec": {
   "display_name": "Python [conda env:base] *",
   "language": "python",
   "name": "conda-base-py"
  },
  "language_info": {
   "codemirror_mode": {
    "name": "ipython",
    "version": 3
   },
   "file_extension": ".py",
   "mimetype": "text/x-python",
   "name": "python",
   "nbconvert_exporter": "python",
   "pygments_lexer": "ipython3",
   "version": "3.13.5"
  }
 },
 "nbformat": 4,
 "nbformat_minor": 5
}
